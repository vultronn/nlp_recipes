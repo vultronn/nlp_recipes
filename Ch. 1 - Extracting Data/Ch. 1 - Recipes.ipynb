{
 "metadata": {
  "language_info": {
   "codemirror_mode": {
    "name": "ipython",
    "version": 3
   },
   "file_extension": ".py",
   "mimetype": "text/x-python",
   "name": "python",
   "nbconvert_exporter": "python",
   "pygments_lexer": "ipython3",
   "version": "3.7.7-final"
  },
  "orig_nbformat": 2,
  "kernelspec": {
   "name": "python3",
   "display_name": "Python 3",
   "language": "python"
  }
 },
 "nbformat": 4,
 "nbformat_minor": 2,
 "cells": [
  {
   "source": [
    "# Ch. 1 - Extract Data"
   ],
   "cell_type": "markdown",
   "metadata": {}
  },
  {
   "source": [
    "## Twitter Free API"
   ],
   "cell_type": "markdown",
   "metadata": {}
  },
  {
   "source": [
    "#!pip install tweepy"
   ],
   "cell_type": "code",
   "metadata": {},
   "execution_count": 1,
   "outputs": []
  },
  {
   "cell_type": "code",
   "execution_count": null,
   "metadata": {},
   "outputs": [],
   "source": []
  },
  {
   "cell_type": "code",
   "execution_count": 2,
   "metadata": {},
   "outputs": [
    {
     "output_type": "error",
     "ename": "ModuleNotFoundError",
     "evalue": "No module named 'tweepy'",
     "traceback": [
      "\u001b[1;31m---------------------------------------------------------------------------\u001b[0m",
      "\u001b[1;31mModuleNotFoundError\u001b[0m                       Traceback (most recent call last)",
      "\u001b[1;32m<ipython-input-2-44ae4e125343>\u001b[0m in \u001b[0;36m<module>\u001b[1;34m\u001b[0m\n\u001b[0;32m      1\u001b[0m \u001b[1;32mimport\u001b[0m \u001b[0mnumpy\u001b[0m \u001b[1;32mas\u001b[0m \u001b[0mnp\u001b[0m\u001b[1;33m\u001b[0m\u001b[1;33m\u001b[0m\u001b[0m\n\u001b[1;32m----> 2\u001b[1;33m \u001b[1;32mimport\u001b[0m \u001b[0mtweepy\u001b[0m\u001b[1;33m\u001b[0m\u001b[1;33m\u001b[0m\u001b[0m\n\u001b[0m\u001b[0;32m      3\u001b[0m \u001b[1;32mimport\u001b[0m \u001b[0mjson\u001b[0m\u001b[1;33m\u001b[0m\u001b[1;33m\u001b[0m\u001b[0m\n\u001b[0;32m      4\u001b[0m \u001b[1;32mimport\u001b[0m \u001b[0mpandas\u001b[0m \u001b[1;32mas\u001b[0m \u001b[0mpd\u001b[0m\u001b[1;33m\u001b[0m\u001b[1;33m\u001b[0m\u001b[0m\n\u001b[0;32m      5\u001b[0m \u001b[1;32mfrom\u001b[0m \u001b[0mtweepy\u001b[0m \u001b[1;32mimport\u001b[0m \u001b[0mOAuthHandler\u001b[0m\u001b[1;33m\u001b[0m\u001b[1;33m\u001b[0m\u001b[0m\n",
      "\u001b[1;31mModuleNotFoundError\u001b[0m: No module named 'tweepy'"
     ]
    }
   ],
   "source": [
    "import numpy as np\n",
    "import tweepy\n",
    "import json\n",
    "import pandas as pd\n",
    "from tweepy import OAuthHandler"
   ]
  },
  {
   "cell_type": "code",
   "execution_count": null,
   "metadata": {},
   "outputs": [],
   "source": [
    "# credentials\n",
    "consumer_key = \"VczHo4q1Wmzry59sdeJtKPWxC\"\n",
    "consumer_secret = \"StvLf2f8DRMehOmpimKyrI9oZgcfkYAZzs2F5p5uKVItRfJoOB\"\n",
    "access_token = \"1136763472384069632-aKpagfplOTCJgRSCjBUgxnqLRbn6LK\"\n",
    "access_token_secret = \"JkkUutf659EydO5I5kYQqvdOPRPw3xqwBWzPgqbXWOWeT\"\n",
    "\n",
    "# calling API\n",
    "auth = tweepy.OAuthHandler(consumer_key, consumer_secret)\n",
    "auth.set_access_token(access_token, access_token_secret)\n",
    "api = tweepy.API(auth)\n"
   ]
  },
  {
   "cell_type": "code",
   "execution_count": null,
   "metadata": {},
   "outputs": [],
   "source": [
    "# Provide the query you want to pull the data. For example, pulling data for the mobile phone ABC\n",
    "query =\"ABC\""
   ]
  },
  {
   "source": [
    "# Fetching tweets\n",
    "Tweets = api.search(query, count = 10,lang='en',exclude='retweets',tweet_mode='extended')\n"
   ],
   "cell_type": "code",
   "metadata": {},
   "execution_count": null,
   "outputs": []
  },
  {
   "source": [
    "## PDFs"
   ],
   "cell_type": "markdown",
   "metadata": {}
  },
  {
   "source": [
    "#!pip install PyPDF2"
   ],
   "cell_type": "code",
   "metadata": {},
   "execution_count": null,
   "outputs": []
  },
  {
   "cell_type": "code",
   "execution_count": null,
   "metadata": {},
   "outputs": [],
   "source": [
    "import PyPDF2\n",
    "from PyPDF2 import PdfFileReader"
   ]
  },
  {
   "source": [
    "# Number of Pages\n",
    "print(pdf_reader.numPages)"
   ],
   "cell_type": "code",
   "metadata": {},
   "execution_count": null,
   "outputs": []
  },
  {
   "source": [
    "# Extract Page \n",
    "page = pdf_reader.getPage(0)\n",
    "# Extract text from Page(0)\n",
    "print(page.extractText())\n",
    "pdf.close()"
   ],
   "cell_type": "code",
   "metadata": {},
   "execution_count": null,
   "outputs": []
  },
  {
   "source": [
    "## Word Document"
   ],
   "cell_type": "markdown",
   "metadata": {}
  },
  {
   "cell_type": "code",
   "execution_count": 3,
   "metadata": {},
   "outputs": [
    {
     "output_type": "stream",
     "name": "stdout",
     "text": [
      "Collecting python-docx\n  Downloading python-docx-0.8.10.tar.gz (5.5 MB)\nRequirement already satisfied: lxml>=2.3.2 in c:\\users\\pdvic\\miniconda3\\envs\\ml_env\\lib\\site-packages (from python-docx) (4.6.2)\nBuilding wheels for collected packages: python-docx\n  Building wheel for python-docx (setup.py): started\n  Building wheel for python-docx (setup.py): finished with status 'done'\n  Created wheel for python-docx: filename=python_docx-0.8.10-py3-none-any.whl size=184495 sha256=b68e7bce41699f2e6f798ff91cfa74f5d247e4f3431ce0b7129d25a7a585feac\n  Stored in directory: c:\\users\\pdvic\\appdata\\local\\pip\\cache\\wheels\\75\\c6\\69\\05491f32dc052cd70476b65f5bf7082a9b274045f6b001b821\nSuccessfully built python-docx\nInstalling collected packages: python-docx\nSuccessfully installed python-docx-0.8.10\n"
     ]
    }
   ],
   "source": [
    "!pip install python-docx # Needs 'python-' for py3\n",
    "# import docx\n",
    "from docx import Document"
   ]
  },
  {
   "cell_type": "code",
   "execution_count": 19,
   "metadata": {},
   "outputs": [],
   "source": [
    "# Creat word file object\n",
    "doc = open('wordfile_test2.docx', 'rb')\n",
    "document = Document(doc)"
   ]
  },
  {
   "cell_type": "code",
   "execution_count": 20,
   "metadata": {},
   "outputs": [],
   "source": [
    "docu = \"\"\n",
    "for para in document.paragraphs:\n",
    "    docu += para.text"
   ]
  },
  {
   "cell_type": "code",
   "execution_count": 21,
   "metadata": {},
   "outputs": [
    {
     "output_type": "execute_result",
     "data": {
      "text/plain": [
       "'Test 123 sdlfkjsdflhtlkne. Sdlfk134455. sdlfkjsdflhtlkne. Sdlfk134455. sdlfkjsdflhtlkne. Sdlfk134455. sdlfkjsdflhtlkne. Sdlfk134455 sdlfkjsdflhtlkne. Sdlfk134455 sdlfkjsdflhtlkne. Sdlfk134455 sdlfkjsdflhtlkne. Sdlfk134455 sdlfkjsdflhtlkne. Sdlfk134455 sdlfkjsdflhtlkne. Sdlfk134455. sdlfkjsdflhtlkne. Sdlfk134455. sdlfkjsdflhtlkne. Sdlfk134455What about the big things of paragraphs blah blach?. about the big things about the big things about the big things about the big things about the big things about the big things about the big things about the big things about the big things about the big things. about the big things about the big things about the big things about the big things about the big things about the big things about the big things about the big things. about the big things about the big things about the big things about the big things. about the big things about the big things about the big things. about the big things'"
      ]
     },
     "metadata": {},
     "execution_count": 21
    }
   ],
   "source": [
    "docu"
   ]
  },
  {
   "source": [
    "## JSON"
   ],
   "cell_type": "markdown",
   "metadata": {}
  },
  {
   "cell_type": "code",
   "execution_count": 4,
   "metadata": {},
   "outputs": [
    {
     "output_type": "stream",
     "name": "stdout",
     "text": [
      "Requirement already satisfied: requests in c:\\users\\pdvic\\miniconda3\\envs\\ml_env\\lib\\site-packages (2.25.1)\n",
      "Requirement already satisfied: idna<3,>=2.5 in c:\\users\\pdvic\\miniconda3\\envs\\ml_env\\lib\\site-packages (from requests) (2.10)\n",
      "Requirement already satisfied: urllib3<1.27,>=1.21.1 in c:\\users\\pdvic\\miniconda3\\envs\\ml_env\\lib\\site-packages (from requests) (1.26.3)\n",
      "Requirement already satisfied: chardet<5,>=3.0.2 in c:\\users\\pdvic\\miniconda3\\envs\\ml_env\\lib\\site-packages (from requests) (4.0.0)\n",
      "Requirement already satisfied: certifi>=2017.4.17 in c:\\users\\pdvic\\miniconda3\\envs\\ml_env\\lib\\site-packages (from requests) (2020.11.8)\n",
      "ERROR: Could not find a version that satisfies the requirement json (from versions: none)\n",
      "ERROR: No matching distribution found for json\n"
     ]
    }
   ],
   "source": [
    "!pip install requests\n",
    "!pip install json \n",
    "import requests \n",
    "import json"
   ]
  },
  {
   "cell_type": "code",
   "execution_count": 5,
   "metadata": {},
   "outputs": [],
   "source": [
    "r = requests.get(\"https://quotes.rest/qod.json\")"
   ]
  },
  {
   "cell_type": "code",
   "execution_count": 7,
   "metadata": {},
   "outputs": [
    {
     "output_type": "stream",
     "name": "stdout",
     "text": [
      "{\n    \"success\": {\n        \"total\": 1\n    },\n    \"contents\": {\n        \"quotes\": [\n            {\n                \"quote\": \"You must have a positive self perception in order to transcend anything.\",\n                \"length\": \"72\",\n                \"author\": \"Steve Maraboli\",\n                \"tags\": [\n                    \"inspire\",\n                    \"perception\",\n                    \"transcend\"\n                ],\n                \"category\": \"inspire\",\n                \"language\": \"en\",\n                \"date\": \"2021-01-30\",\n                \"permalink\": \"https://theysaidso.com/quote/steve-maraboli-you-must-have-a-positive-self-perception-in-order-to-transcend-an\",\n                \"id\": \"qKRNGN6V3zZU8UX97fHAyweF\",\n                \"background\": \"https://theysaidso.com/img/qod/qod-inspire.jpg\",\n                \"title\": \"Inspiring Quote of the day\"\n            }\n        ]\n    },\n    \"baseurl\": \"https://theysaidso.com\",\n    \"copyright\": {\n        \"year\": 2023,\n        \"url\": \"https://theysaidso.com\"\n    }\n}\n"
     ]
    }
   ],
   "source": [
    "res = r.json()\n",
    "print(json.dumps(res, indent = 4))"
   ]
  },
  {
   "cell_type": "code",
   "execution_count": 10,
   "metadata": {},
   "outputs": [
    {
     "output_type": "execute_result",
     "data": {
      "text/plain": [
       "{'quote': 'You must have a positive self perception in order to transcend anything.',\n",
       " 'length': '72',\n",
       " 'author': 'Steve Maraboli',\n",
       " 'tags': ['inspire', 'perception', 'transcend'],\n",
       " 'category': 'inspire',\n",
       " 'language': 'en',\n",
       " 'date': '2021-01-30',\n",
       " 'permalink': 'https://theysaidso.com/quote/steve-maraboli-you-must-have-a-positive-self-perception-in-order-to-transcend-an',\n",
       " 'id': 'qKRNGN6V3zZU8UX97fHAyweF',\n",
       " 'background': 'https://theysaidso.com/img/qod/qod-inspire.jpg',\n",
       " 'title': 'Inspiring Quote of the day'}"
      ]
     },
     "metadata": {},
     "execution_count": 10
    }
   ],
   "source": [
    "q = res['contents']['quotes'][0]\n",
    "q"
   ]
  },
  {
   "cell_type": "code",
   "execution_count": 11,
   "metadata": {},
   "outputs": [
    {
     "output_type": "stream",
     "name": "stdout",
     "text": [
      "You must have a positive self perception in order to transcend anything. \n-- Steve Maraboli\n"
     ]
    }
   ],
   "source": [
    "print(q['quote'], '\\n--',q['author'])"
   ]
  },
  {
   "cell_type": "code",
   "execution_count": null,
   "metadata": {},
   "outputs": [],
   "source": []
  }
 ]
}