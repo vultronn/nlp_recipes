{
 "metadata": {
  "language_info": {
   "codemirror_mode": {
    "name": "ipython",
    "version": 3
   },
   "file_extension": ".py",
   "mimetype": "text/x-python",
   "name": "python",
   "nbconvert_exporter": "python",
   "pygments_lexer": "ipython3",
   "version": "3.7.7-final"
  },
  "orig_nbformat": 2,
  "kernelspec": {
   "name": "python3",
   "display_name": "Python 3",
   "language": "python"
  }
 },
 "nbformat": 4,
 "nbformat_minor": 2,
 "cells": [
  {
   "source": [
    "# Ch. 1 - Extract Data"
   ],
   "cell_type": "markdown",
   "metadata": {}
  },
  {
   "source": [
    "## Twitter Free API"
   ],
   "cell_type": "markdown",
   "metadata": {}
  },
  {
   "source": [
    "!pip install tweepy"
   ],
   "cell_type": "code",
   "metadata": {},
   "execution_count": 1,
   "outputs": []
  },
  {
   "cell_type": "code",
   "execution_count": null,
   "metadata": {},
   "outputs": [],
   "source": []
  },
  {
   "cell_type": "code",
   "execution_count": 2,
   "metadata": {},
   "outputs": [
    {
     "output_type": "error",
     "ename": "ModuleNotFoundError",
     "evalue": "No module named 'tweepy'",
     "traceback": [
      "\u001b[1;31m---------------------------------------------------------------------------\u001b[0m",
      "\u001b[1;31mModuleNotFoundError\u001b[0m                       Traceback (most recent call last)",
      "\u001b[1;32m<ipython-input-2-44ae4e125343>\u001b[0m in \u001b[0;36m<module>\u001b[1;34m\u001b[0m\n\u001b[0;32m      1\u001b[0m \u001b[1;32mimport\u001b[0m \u001b[0mnumpy\u001b[0m \u001b[1;32mas\u001b[0m \u001b[0mnp\u001b[0m\u001b[1;33m\u001b[0m\u001b[1;33m\u001b[0m\u001b[0m\n\u001b[1;32m----> 2\u001b[1;33m \u001b[1;32mimport\u001b[0m \u001b[0mtweepy\u001b[0m\u001b[1;33m\u001b[0m\u001b[1;33m\u001b[0m\u001b[0m\n\u001b[0m\u001b[0;32m      3\u001b[0m \u001b[1;32mimport\u001b[0m \u001b[0mjson\u001b[0m\u001b[1;33m\u001b[0m\u001b[1;33m\u001b[0m\u001b[0m\n\u001b[0;32m      4\u001b[0m \u001b[1;32mimport\u001b[0m \u001b[0mpandas\u001b[0m \u001b[1;32mas\u001b[0m \u001b[0mpd\u001b[0m\u001b[1;33m\u001b[0m\u001b[1;33m\u001b[0m\u001b[0m\n\u001b[0;32m      5\u001b[0m \u001b[1;32mfrom\u001b[0m \u001b[0mtweepy\u001b[0m \u001b[1;32mimport\u001b[0m \u001b[0mOAuthHandler\u001b[0m\u001b[1;33m\u001b[0m\u001b[1;33m\u001b[0m\u001b[0m\n",
      "\u001b[1;31mModuleNotFoundError\u001b[0m: No module named 'tweepy'"
     ]
    }
   ],
   "source": [
    "import numpy as np\n",
    "import tweepy\n",
    "import json\n",
    "import pandas as pd\n",
    "from tweepy import OAuthHandler"
   ]
  },
  {
   "cell_type": "code",
   "execution_count": null,
   "metadata": {},
   "outputs": [],
   "source": [
    "# credentials\n",
    "consumer_key = \"VczHo4q1Wmzry59sdeJtKPWxC\"\n",
    "consumer_secret = \"StvLf2f8DRMehOmpimKyrI9oZgcfkYAZzs2F5p5uKVItRfJoOB\"\n",
    "access_token = \"1136763472384069632-aKpagfplOTCJgRSCjBUgxnqLRbn6LK\"\n",
    "access_token_secret = \"JkkUutf659EydO5I5kYQqvdOPRPw3xqwBWzPgqbXWOWeT\"\n",
    "\n",
    "# calling API\n",
    "auth = tweepy.OAuthHandler(consumer_key, consumer_secret)\n",
    "auth.set_access_token(access_token, access_token_secret)\n",
    "api = tweepy.API(auth)\n"
   ]
  },
  {
   "cell_type": "code",
   "execution_count": null,
   "metadata": {},
   "outputs": [],
   "source": [
    "# Provide the query you want to pull the data. For example, pulling data for the mobile phone ABC\n",
    "query =\"ABC\""
   ]
  },
  {
   "source": [
    "# Fetching tweets\n",
    "Tweets = api.search(query, count = 10,lang='en',exclude='retweets',tweet_mode='extended')\n"
   ],
   "cell_type": "code",
   "metadata": {},
   "execution_count": null,
   "outputs": []
  },
  {
   "source": [
    "## PDFs"
   ],
   "cell_type": "markdown",
   "metadata": {}
  },
  {
   "source": [
    "#!pip install PyPDF2"
   ],
   "cell_type": "code",
   "metadata": {},
   "execution_count": null,
   "outputs": []
  },
  {
   "cell_type": "code",
   "execution_count": null,
   "metadata": {},
   "outputs": [],
   "source": [
    "import PyPDF2\n",
    "from PyPDF2 import PdfFileReader"
   ]
  },
  {
   "source": [
    "# Number of Pages\n",
    "print(pdf_reader.numPages)"
   ],
   "cell_type": "code",
   "metadata": {},
   "execution_count": null,
   "outputs": []
  },
  {
   "source": [
    "# Extract Page \n",
    "page = pdf_reader.getPage(0)\n",
    "# Extract text from Page(0)\n",
    "print(page.extractText())\n",
    "pdf.close()"
   ],
   "cell_type": "code",
   "metadata": {},
   "execution_count": null,
   "outputs": []
  },
  {
   "source": [
    "## Word Document"
   ],
   "cell_type": "markdown",
   "metadata": {}
  },
  {
   "cell_type": "code",
   "execution_count": 3,
   "metadata": {},
   "outputs": [
    {
     "output_type": "stream",
     "name": "stdout",
     "text": [
      "Collecting python-docx\n  Downloading python-docx-0.8.10.tar.gz (5.5 MB)\nRequirement already satisfied: lxml>=2.3.2 in c:\\users\\pdvic\\miniconda3\\envs\\ml_env\\lib\\site-packages (from python-docx) (4.6.2)\nBuilding wheels for collected packages: python-docx\n  Building wheel for python-docx (setup.py): started\n  Building wheel for python-docx (setup.py): finished with status 'done'\n  Created wheel for python-docx: filename=python_docx-0.8.10-py3-none-any.whl size=184495 sha256=b68e7bce41699f2e6f798ff91cfa74f5d247e4f3431ce0b7129d25a7a585feac\n  Stored in directory: c:\\users\\pdvic\\appdata\\local\\pip\\cache\\wheels\\75\\c6\\69\\05491f32dc052cd70476b65f5bf7082a9b274045f6b001b821\nSuccessfully built python-docx\nInstalling collected packages: python-docx\nSuccessfully installed python-docx-0.8.10\n"
     ]
    }
   ],
   "source": [
    "!pip install python-docx # Needs 'python-' for py3\n",
    "# import docx\n",
    "from docx import Document"
   ]
  },
  {
   "cell_type": "code",
   "execution_count": 19,
   "metadata": {},
   "outputs": [],
   "source": [
    "# Creat word file object\n",
    "doc = open('wordfile_test2.docx', 'rb')\n",
    "document = Document(doc)"
   ]
  },
  {
   "cell_type": "code",
   "execution_count": 20,
   "metadata": {},
   "outputs": [],
   "source": [
    "docu = \"\"\n",
    "for para in document.paragraphs:\n",
    "    docu += para.text"
   ]
  },
  {
   "cell_type": "code",
   "execution_count": 21,
   "metadata": {},
   "outputs": [
    {
     "output_type": "execute_result",
     "data": {
      "text/plain": [
       "'Test 123 sdlfkjsdflhtlkne. Sdlfk134455. sdlfkjsdflhtlkne. Sdlfk134455. sdlfkjsdflhtlkne. Sdlfk134455. sdlfkjsdflhtlkne. Sdlfk134455 sdlfkjsdflhtlkne. Sdlfk134455 sdlfkjsdflhtlkne. Sdlfk134455 sdlfkjsdflhtlkne. Sdlfk134455 sdlfkjsdflhtlkne. Sdlfk134455 sdlfkjsdflhtlkne. Sdlfk134455. sdlfkjsdflhtlkne. Sdlfk134455. sdlfkjsdflhtlkne. Sdlfk134455What about the big things of paragraphs blah blach?. about the big things about the big things about the big things about the big things about the big things about the big things about the big things about the big things about the big things about the big things. about the big things about the big things about the big things about the big things about the big things about the big things about the big things about the big things. about the big things about the big things about the big things about the big things. about the big things about the big things about the big things. about the big things'"
      ]
     },
     "metadata": {},
     "execution_count": 21
    }
   ],
   "source": [
    "docu"
   ]
  },
  {
   "source": [
    "## JSON"
   ],
   "cell_type": "markdown",
   "metadata": {}
  },
  {
   "cell_type": "code",
   "execution_count": 4,
   "metadata": {},
   "outputs": [
    {
     "output_type": "stream",
     "name": "stdout",
     "text": [
      "Requirement already satisfied: requests in c:\\users\\pdvic\\miniconda3\\envs\\ml_env\\lib\\site-packages (2.25.1)\n",
      "Requirement already satisfied: idna<3,>=2.5 in c:\\users\\pdvic\\miniconda3\\envs\\ml_env\\lib\\site-packages (from requests) (2.10)\n",
      "Requirement already satisfied: urllib3<1.27,>=1.21.1 in c:\\users\\pdvic\\miniconda3\\envs\\ml_env\\lib\\site-packages (from requests) (1.26.3)\n",
      "Requirement already satisfied: chardet<5,>=3.0.2 in c:\\users\\pdvic\\miniconda3\\envs\\ml_env\\lib\\site-packages (from requests) (4.0.0)\n",
      "Requirement already satisfied: certifi>=2017.4.17 in c:\\users\\pdvic\\miniconda3\\envs\\ml_env\\lib\\site-packages (from requests) (2020.11.8)\n",
      "ERROR: Could not find a version that satisfies the requirement json (from versions: none)\n",
      "ERROR: No matching distribution found for json\n"
     ]
    }
   ],
   "source": [
    "!pip install requests\n",
    "!pip install json \n",
    "import requests \n",
    "import json"
   ]
  },
  {
   "cell_type": "code",
   "execution_count": 5,
   "metadata": {},
   "outputs": [],
   "source": [
    "r = requests.get(\"https://quotes.rest/qod.json\")"
   ]
  },
  {
   "cell_type": "code",
   "execution_count": 7,
   "metadata": {},
   "outputs": [
    {
     "output_type": "stream",
     "name": "stdout",
     "text": [
      "{\n    \"success\": {\n        \"total\": 1\n    },\n    \"contents\": {\n        \"quotes\": [\n            {\n                \"quote\": \"You must have a positive self perception in order to transcend anything.\",\n                \"length\": \"72\",\n                \"author\": \"Steve Maraboli\",\n                \"tags\": [\n                    \"inspire\",\n                    \"perception\",\n                    \"transcend\"\n                ],\n                \"category\": \"inspire\",\n                \"language\": \"en\",\n                \"date\": \"2021-01-30\",\n                \"permalink\": \"https://theysaidso.com/quote/steve-maraboli-you-must-have-a-positive-self-perception-in-order-to-transcend-an\",\n                \"id\": \"qKRNGN6V3zZU8UX97fHAyweF\",\n                \"background\": \"https://theysaidso.com/img/qod/qod-inspire.jpg\",\n                \"title\": \"Inspiring Quote of the day\"\n            }\n        ]\n    },\n    \"baseurl\": \"https://theysaidso.com\",\n    \"copyright\": {\n        \"year\": 2023,\n        \"url\": \"https://theysaidso.com\"\n    }\n}\n"
     ]
    }
   ],
   "source": [
    "res = r.json()\n",
    "print(json.dumps(res, indent = 4))"
   ]
  },
  {
   "cell_type": "code",
   "execution_count": 10,
   "metadata": {},
   "outputs": [
    {
     "output_type": "execute_result",
     "data": {
      "text/plain": [
       "{'quote': 'You must have a positive self perception in order to transcend anything.',\n",
       " 'length': '72',\n",
       " 'author': 'Steve Maraboli',\n",
       " 'tags': ['inspire', 'perception', 'transcend'],\n",
       " 'category': 'inspire',\n",
       " 'language': 'en',\n",
       " 'date': '2021-01-30',\n",
       " 'permalink': 'https://theysaidso.com/quote/steve-maraboli-you-must-have-a-positive-self-perception-in-order-to-transcend-an',\n",
       " 'id': 'qKRNGN6V3zZU8UX97fHAyweF',\n",
       " 'background': 'https://theysaidso.com/img/qod/qod-inspire.jpg',\n",
       " 'title': 'Inspiring Quote of the day'}"
      ]
     },
     "metadata": {},
     "execution_count": 10
    }
   ],
   "source": [
    "q = res['contents']['quotes'][0]\n",
    "q"
   ]
  },
  {
   "cell_type": "code",
   "execution_count": 11,
   "metadata": {},
   "outputs": [
    {
     "output_type": "stream",
     "name": "stdout",
     "text": [
      "You must have a positive self perception in order to transcend anything. \n-- Steve Maraboli\n"
     ]
    }
   ],
   "source": [
    "print(q['quote'], '\\n--',q['author'])"
   ]
  },
  {
   "source": [
    "## HTML Data"
   ],
   "cell_type": "markdown",
   "metadata": {}
  },
  {
   "cell_type": "code",
   "execution_count": 1,
   "metadata": {},
   "outputs": [
    {
     "output_type": "stream",
     "name": "stdout",
     "text": [
      "Collecting bs4\n  Downloading bs4-0.0.1.tar.gz (1.1 kB)\nCollecting beautifulsoup4\n  Downloading beautifulsoup4-4.9.3-py3-none-any.whl (115 kB)\nCollecting soupsieve>1.2; python_version >= \"3.0\"\n  Downloading soupsieve-2.1-py3-none-any.whl (32 kB)\nBuilding wheels for collected packages: bs4\n  Building wheel for bs4 (setup.py): started\n  Building wheel for bs4 (setup.py): finished with status 'done'\n  Created wheel for bs4: filename=bs4-0.0.1-py3-none-any.whl size=1279 sha256=79a0c9ffedac20c22abf7c3fd8bd1fef032edff34363c624e4b65f6ba89bbaa6\n  Stored in directory: c:\\users\\pdvic\\appdata\\local\\pip\\cache\\wheels\\0a\\9e\\ba\\20e5bbc1afef3a491f0b3bb74d508f99403aabe76eda2167ca\nSuccessfully built bs4\nInstalling collected packages: soupsieve, beautifulsoup4, bs4\nSuccessfully installed beautifulsoup4-4.9.3 bs4-0.0.1 soupsieve-2.1\n"
     ]
    }
   ],
   "source": [
    "!pip install bs4\n",
    "import urllib.request as urllib2\n",
    "from bs4 import BeautifulSoup"
   ]
  },
  {
   "cell_type": "code",
   "execution_count": 2,
   "metadata": {},
   "outputs": [],
   "source": [
    "response = urllib2.urlopen('https://en.wikipedia.org/wiki/Natural_language_processing')\n",
    "html_doc = response.read()"
   ]
  },
  {
   "source": [
    "# Parse data\n",
    "soup = BeautifulSoup(html_doc, 'html.parser')\n",
    "# Format parsed html file\n",
    "strhtm = soup.prettify()\n",
    "# Print new lines\n",
    "print(strhtm[:1000])"
   ],
   "cell_type": "code",
   "metadata": {},
   "execution_count": 5,
   "outputs": [
    {
     "output_type": "stream",
     "name": "stdout",
     "text": [
      "<!DOCTYPE html>\n<html class=\"client-nojs\" dir=\"ltr\" lang=\"en\">\n <head>\n  <meta charset=\"utf-8\"/>\n  <title>\n   Natural language processing - Wikipedia\n  </title>\n  <script>\n   document.documentElement.className=\"client-js\";RLCONF={\"wgBreakFrames\":!1,\"wgSeparatorTransformTable\":[\"\",\"\"],\"wgDigitTransformTable\":[\"\",\"\"],\"wgDefaultDateFormat\":\"dmy\",\"wgMonthNames\":[\"\",\"January\",\"February\",\"March\",\"April\",\"May\",\"June\",\"July\",\"August\",\"September\",\"October\",\"November\",\"December\"],\"wgRequestId\":\"YBX6hwpAAEIAAC2V5MYAAACJ\",\"wgCSPNonce\":!1,\"wgCanonicalNamespace\":\"\",\"wgCanonicalSpecialPageName\":!1,\"wgNamespaceNumber\":0,\"wgPageName\":\"Natural_language_processing\",\"wgTitle\":\"Natural language processing\",\"wgCurRevisionId\":1003845182,\"wgRevisionId\":1003845182,\"wgArticleId\":21652,\"wgIsArticle\":!0,\"wgIsRedirect\":!1,\"wgAction\":\"view\",\"wgUserName\":null,\"wgUserGroups\":[\"*\"],\"wgCategories\":[\"CS1 maint: location\",\"Articles with short description\",\"Short description matches Wikidata\",\"Commons link from Wikidata\",\n"
     ]
    }
   ]
  },
  {
   "source": [
    "# Extracting tag value of first occurances of a tag\n",
    "print(soup.title)\n",
    "print(soup.title.string)\n",
    "print(soup.a.string)\n",
    "print(soup.b.string)"
   ],
   "cell_type": "code",
   "metadata": {},
   "execution_count": 16,
   "outputs": [
    {
     "output_type": "stream",
     "name": "stdout",
     "text": [
      "<title>Natural language processing - Wikipedia</title>\nNatural language processing - Wikipedia\nNone\nNatural language processing\n"
     ]
    }
   ]
  },
  {
   "cell_type": "code",
   "execution_count": 17,
   "metadata": {},
   "outputs": [
    {
     "output_type": "stream",
     "name": "stdout",
     "text": [
      "None\nJump to navigation\nJump to search\nNone\nNone\nautomated online assistant\ncustomer service\n[1]\nlinguistics\ncomputer science\nartificial intelligence\nnatural language\nspeech recognition\nnatural language understanding\nnatural-language generation\nNone\nNone\nNone\nNone\nNone\nNone\nNone\nNone\nNone\nNone\nNone\nNone\nNone\nNone\nNone\nNone\nNone\nNone\nNone\nNone\nedit\nHistory of natural language processing\nAlan Turing\nComputing Machinery and Intelligence\nTuring test\nedit\nJohn Searle\nChinese room\nGeorgetown experiment\nautomatic translation\n[2]\nALPAC report\nstatistical machine translation\nSHRDLU\nblocks worlds\nELIZA\nRogerian psychotherapist\nJoseph Weizenbaum\nontologies\nchatterbots\nPARRY\nHPSG\ngenerative grammar\n[3]\nLesk algorithm\n[4]\nRhetorical Structure Theory\nRacter\nJabberwacky\n[5]\nedit\nmachine learning\nMoore's law\nChomskyan\ntransformational grammar\ncorpus linguistics\n[6]\nmachine translation\ntextual corpora\nParliament of Canada\nEuropean Union\nunsupervised\nsemi-supervised learning\nsupervised learning\nWorld Wide Web\ntime complexity\nedit\nrepresentation learning\ndeep neural network\n[7]\n[8]\n[9]\n[10]\n[11]\nedit\n[12]\n[13]\nstemming\nmachine-learning\nApertium\ntokenization\nknowledge extraction\nedit\n[14]\n[15]\nstatistical inference\ncorpora\nstatistical models\nprobabilistic\nreal-valued\ndecision trees\npart-of-speech tagging\nhidden Markov models\nstatistical models\nprobabilistic\nreal-valued\ncache language models\nspeech recognition\nedit\nArtificial neural network\n[16]\nneural networks\nword embeddings\nneural machine translation\nsequence-to-sequence\nstatistical machine translation\n[17]\nedit\nedit\nOptical character recognition\nSpeech recognition\ntext to speech\nAI-complete\nnatural speech\nspeech segmentation\ncoarticulation\nanalog signal\nSpeech segmentation\nspeech recognition\nText-to-speech\n[18]\nWord segmentation\nTokenization\nEnglish\nChinese\nJapanese\nThai\nvocabulary\nmorphology\nbag of words\nedit\nLemmatization\n[19]\nMorphological segmentation\nmorphemes\nmorphology\nEnglish\ninflectional morphology\nTurkish\nMeitei\n[20]\nagglutinated\nPart-of-speech tagging\npart of speech\nparts of speech\nnoun\nverb\nnoun\nverb\nadjective\nStemming\nedit\nGrammar induction\n[21]\nformal grammar\nSentence breaking\nsentence boundary disambiguation\nperiods\npunctuation marks\nabbreviations\nParsing\nparse tree\ngrammar\nnatural languages\nambiguous\nprobabilistic context-free grammar\nstochastic grammar\nedit\nLexical semantics\nDistributional semantics\nNamed entity recognition\ncapitalization\nnamed entity\nChinese\nArabic\nGerman\nnouns\nFrench\nSpanish\nadjectives\nSentiment analysis\nmultimodal sentiment analysis\nTerminology extraction\nWord sense disambiguation\nmeaning\nWordNet\nedit\nRelationship extraction\nSemantic Parsing\nAMR parsing\nDRT parsing\nSemantic Role Labelling\nframes\nsemantic roles\nedit\nCoreference resolution\nAnaphora resolution\npronouns\nreferring expressions\nDiscourse analysis\ndiscourse\nspeech acts\nframes\npro-drop languages\nRecognizing Textual entailment\n[22]\nTopic segmentation\nedit\nAutomatic summarization\n[23]\n1 the Road\nlanguage models\n[24]\nDialogue management\n[25]\n[26]\n[27]\n[28]\nGPT-2\n[29]\nMachine translation\nAI-complete\nNatural language generation\nNatural language understanding\nfirst-order logic\ncomputer\nclosed-world assumption\nopen-world assumption\n[30]\nQuestion answering\n[31]\nedit\n[32]\nedit\nCognition\n[33]\nCognitive science\n[34]\nCognitive linguistics\n[35]\nsymbolic NLP\nGeorge Lakoff\nCognitive science\nCognitive linguistics\n[36]\nConceptual metaphor\n[37]\nProbabilistic context-free grammar\nUS patent 9269353\n[38]\n[39]\n[40]\nACT-R\n[41]\nACL\nexplainability\n[42]\n[43]\nedit\n1 the Road\nAutomated essay scoring\nBiomedical text mining\nCompound term processing\nComputational linguistics\nComputer-assisted reviewing\nControlled natural language\nDeep learning\nDeep linguistic processing\nDistributional semantics\nForeign language reading aid\nForeign language writing aid\nInformation extraction\nInformation retrieval\nLanguage and Communication Technologies\nLanguage technology\nLatent semantic indexing\nNative-language identification\nNatural language programming\nNatural language search\nOutline of natural language processing\nQuery expansion\nQuery understanding\nReification (linguistics)\nSpeech processing\nSpoken dialogue system\nText-proofing\nText simplification\nTransformer (machine learning model)\nTruecasing\nQuestion answering\nWord2vec\nedit\n^\ndoi\n10.1145/1643823.1643908\n^\n\"The history of machine translation in a nutshell\"\nself-published source\n^\nKoskenniemi, Kimmo\nTwo-level morphology: A general computational model of word-form recognition and production\nUniversity of Helsinki\n^\nControl of Inference: Role of Some Aspects of Discourse Structure-Centering\n^\ndoi\n10.1109/PROC.1986.13580\nISSN\n1558-2256\nS2CID\n30688575\n^\ncorner cases\npathological\nthought experiments\ncorpus linguistics\ncorpora\npoverty of the stimulus\n^\narXiv\n1807.10854\ndoi\n10.1613/jair.4992\nS2CID\n8273530\n^\nDeep Learning\n^\narXiv\n1602.02410\nBibcode\n2016arXiv160202410J\n^\n\"Parsing as Language Modeling\"\n^\n\"Grammar as a Foreign Language\"\narXiv\n1412.7449\nBibcode\n2014arXiv1412.7449V\n^\nProcedures as a Representation for Data in a Computer Program for Understanding Natural Language\n^\nISBN\n0-470-99033-3\n^\nMark Johnson. How the statistical revolution changes (computational) linguistics.\n^\nPhilip Resnik. Four revolutions.\n^\n\"Deep Learning For NLP-ACL 2012 Tutorial\"\n^\nColbert: Using bert sentence embedding for humor detection\n^\nCiteSeerX\n10.1.1.668.869\ndoi\n10.1007/978-3-642-29364-1_2\nISBN\n9783642293634\n^\n\"What is Natural Language Processing? Intro to NLP in Machine Learning\"\n^\n\"Manipuri Morpheme Identification\"\nlink\n^\n\"Natural language grammar induction using a constituent-context model\"\n^\nhttps://tac.nist.gov//2011/RTE/\n^\n\"U B U W E B :: Racter\"\n^\ndoi\n10.1007/978-3-030-16800-1\nISBN\n978-3-030-16799-8\n^\n\"Document Understanding AI on Google Cloud (Cloud Next '19) - YouTube\"\n^\n\"Centre for Language Technology (CLT)\"\n^\n\"Shared Task: Grammatical Error Correction\"\n^\n\"Shared Task: Grammatical Error Correction\"\n^\n\"About Us | Grammarly\"\n^\n\"Formalizing Semantic of Natural Language through Conceptualization from Existence\"\nthe original\n^\n\"Versatile question answering systems: seeing in synthesis\"\ndoi\n10.1504/IJIIDS.2011.038968\n^\n\"Previous shared tasks | CoNLL\"\n^\n\"Cognition\"\nOxford University Press\nDictionary.com\n^\n\"Ask the Cognitive Scientist\"\n^\nISBN\n978-0-805-85352-0\n^\nISBN\n978-0-465-05674-3\n^\nISBN\n978-0-521-59541-4\n^\n\"Universal Conceptual Cognitive Annotation (UCCA)\"\n^\nBuilding an RRG computational grammar\n^\n\"Fluid Construction Grammar – A fully operational processing system for construction grammars\"\n^\n\"ACL Member Portal | The Association for Computational Linguistics Member Portal\"\n^\n\"Chunks and Rules\"\n^\nGrounded compositional semantics for finding and describing images with sentences.\nedit\n\"Models of natural language understanding\"\nBibcode\n1995PNAS...92.9977B\ndoi\n10.1073/pnas.92.22.9977\nPMC\n40721\nPMID\n7479812\nISBN\n978-0-596-51649-9\nISBN\n978-0-13-187321-6\nISBN\n978-1848218482\nISBN\n978-1848219212\nISBN\n978-0-521-86571-5\nOfficial html and pdf versions available without charge.\nISBN\n978-0-262-13360-9\nISBN\n978-0-387-19557-5\nNatural language processing\nv\nt\ne\nNatural language processing\nAI-complete\nBag-of-words\nn-gram\nBigram\nTrigram\nNatural language understanding\nSpeech corpus\nStopwords\nText corpus\nText analysis\nCollocation extraction\nConcept mining\nCompound term processing\nCoreference resolution\nLemmatisation\nNamed-entity recognition\nOntology learning\nParsing\nPart-of-speech tagging\nSemantic similarity\nSentiment analysis\nStemming\nTerminology extraction\nText chunking\nText segmentation\nSentence segmentation\nWord segmentation\nTextual entailment\nTruecasing\nWord-sense disambiguation\nAutomatic summarization\nMulti-document summarization\nSentence extraction\nText simplification\nMachine translation\nComputer-assisted\nExample-based\nRule-based\nNeural\nNone\nSpeech recognition\nSpeech segmentation\nSpeech synthesis\nNatural language generation\nOptical character recognition\nTopic model\nLatent Dirichlet allocation\nLatent semantic analysis\nPachinko allocation\nNone\nAutomated essay scoring\nConcordancer\nGrammar checker\nPredictive text\nSpell checker\nSyntax guessing\nNone\nChatbot\nInteractive fiction\nQuestion answering\nVirtual assistant\nVoice user interface\nAuthority control\nNone\nLCCN\nsh88002425\nNDL\n00562347\nNone\nLanguage portal\nhttps://en.wikipedia.org/w/index.php?title=Natural_language_processing&oldid=1003845182\nCategories\nNatural language processing\nComputational linguistics\nSpeech recognition\nComputational fields of study\nArtificial intelligence\nCS1 maint: location\nArticles with short description\nShort description matches Wikidata\nCommons link from Wikidata\nWikipedia articles with LCCN identifiers\nWikipedia articles with NDL identifiers\nTalk\nContributions\nCreate account\nLog in\nArticle\nTalk\nRead\nEdit\nView history\nNone\nMain page\nContents\nCurrent events\nRandom article\nAbout Wikipedia\nContact us\nDonate\nHelp\nLearn to edit\nCommunity portal\nRecent changes\nUpload file\nWhat links here\nRelated changes\nUpload file\nSpecial pages\nPermanent link\nPage information\nCite this page\nWikidata item\nDownload as PDF\nPrintable version\nWikimedia Commons\nAfrikaans\nالعربية\nAzərbaycanca\nবাংলা\nBân-lâm-gú\nБеларуская\nБеларуская (тарашкевіца)‎\nБългарски\nCatalà\nČeština\nDansk\nDeutsch\nEesti\nΕλληνικά\nEspañol\nEuskara\nفارسی\nFrançais\nGalego\n한국어\nՀայերեն\nहिन्दी\nHrvatski\nBahasa Indonesia\nÍslenska\nItaliano\nעברית\nಕನ್ನಡ\nქართული\nLietuvių\nМакедонски\nमराठी\nМонгол\nမြန်မာဘာသာ\n日本語\nଓଡ଼ିଆ\nPiemontèis\nPolski\nPortuguês\nRomână\nРусский\nSimple English\nکوردی\nСрпски / srpski\nSrpskohrvatski / српскохрватски\nதமிழ்\nไทย\nTürkçe\nУкраїнська\nTiếng Việt\n粵語\n中文\nEdit links\nCreative Commons Attribution-ShareAlike License\nNone\nTerms of Use\nPrivacy Policy\nWikimedia Foundation, Inc.\nPrivacy policy\nAbout Wikipedia\nDisclaimers\nContact Wikipedia\nMobile view\nDevelopers\nStatistics\nCookie statement\nNone\nNone\n"
     ]
    }
   ],
   "source": [
    "# Find all instances of a tag\n",
    "for x in soup.find_all('a'):\n",
    "    print(x.string)"
   ]
  },
  {
   "source": [
    "for x in soup.find_all('p'):\n",
    "    print(x.text)"
   ],
   "cell_type": "code",
   "metadata": {},
   "execution_count": null,
   "outputs": []
  },
  {
   "source": [
    "## Regular Expression (Reg Ex)"
   ],
   "cell_type": "markdown",
   "metadata": {}
  },
  {
   "cell_type": "code",
   "execution_count": 1,
   "metadata": {},
   "outputs": [],
   "source": [
    "import re"
   ]
  },
  {
   "cell_type": "code",
   "execution_count": 2,
   "metadata": {},
   "outputs": [],
   "source": [
    "s = 'I like this book it is quality.'"
   ]
  },
  {
   "cell_type": "code",
   "execution_count": 14,
   "metadata": {},
   "outputs": [
    {
     "output_type": "execute_result",
     "data": {
      "text/plain": [
       "['I', 'like', 'this', 'book.']"
      ]
     },
     "metadata": {},
     "execution_count": 14
    }
   ],
   "source": [
    "re.split('\\s', s)"
   ]
  },
  {
   "cell_type": "code",
   "execution_count": 77,
   "metadata": {},
   "outputs": [],
   "source": [
    "doc='For more details please mail us at: a-x.y_z@abc.com, pqrasw@mno.com'"
   ]
  },
  {
   "cell_type": "code",
   "execution_count": 66,
   "metadata": {},
   "outputs": [],
   "source": [
    "address=re.findall(r'[\\w\\.-]+@[\\w\\.]+', doc)"
   ]
  },
  {
   "cell_type": "code",
   "execution_count": 67,
   "metadata": {},
   "outputs": [
    {
     "output_type": "execute_result",
     "data": {
      "text/plain": [
       "['a-x.y_z@abc.com', 'pqr@mno.com']"
      ]
     },
     "metadata": {},
     "execution_count": 67
    }
   ],
   "source": [
    "address"
   ]
  },
  {
   "cell_type": "code",
   "execution_count": 68,
   "metadata": {},
   "outputs": [],
   "source": [
    "doc2='For more details please mail us at: xyz@abc.com'"
   ]
  },
  {
   "cell_type": "code",
   "execution_count": 80,
   "metadata": {},
   "outputs": [],
   "source": [
    "new_email_address=re.sub(r'[\\w\\.-]+@[\\w\\.-]+', r'pqr@mno.com', doc2)"
   ]
  },
  {
   "cell_type": "code",
   "execution_count": 81,
   "metadata": {},
   "outputs": [
    {
     "output_type": "execute_result",
     "data": {
      "text/plain": [
       "'For more details please mail us at: pqr@mno.com'"
      ]
     },
     "metadata": {},
     "execution_count": 81
    }
   ],
   "source": [
    "new_email_address"
   ]
  },
  {
   "source": [
    "## eBook with regex"
   ],
   "cell_type": "markdown",
   "metadata": {}
  },
  {
   "cell_type": "code",
   "execution_count": 22,
   "metadata": {},
   "outputs": [],
   "source": [
    "import re\n",
    "import requests"
   ]
  },
  {
   "cell_type": "code",
   "execution_count": 23,
   "metadata": {},
   "outputs": [],
   "source": [
    "# url to extract data from\n",
    "url = 'https://www.gutenberg.org/files/2638/2638-0.txt'"
   ]
  },
  {
   "cell_type": "code",
   "execution_count": 24,
   "metadata": {},
   "outputs": [],
   "source": [
    "# Function to extract\n",
    "def get_book(url):\n",
    "    # Sends http request to get txt from project Gutenberg\n",
    "    raw = requests.get(url).text \n",
    "    # Discard metadata from beginning of the book \n",
    "    start = re.search(r'\\*\\*\\* START OF THIS PROJECT GUTENBERG EBOOK .* \\*\\*\\*', raw).end()\n",
    "    # Discard metadata from the end of the book\n",
    "    stop = re.search(r'II', raw).start()\n",
    "    # Keep relevant text \n",
    "    text = raw[start:stop]\n",
    "    return text \n",
    "\n",
    "# processing \n",
    "def preprocess(sentence):\n",
    "    return re.sub('[^A-Za-z0-9]', ' ', sentence).lower()\n"
   ]
  },
  {
   "cell_type": "code",
   "execution_count": 25,
   "metadata": {
    "tags": [
     "outputPrepend"
    ]
   },
   "outputs": [
    {
     "output_type": "stream",
     "name": "stdout",
     "text": [
      " more than ever  when to the question     whether he had been cured     the  patient replied        no  they did not cure me           hey  that   s it  you stumped up your money for nothing  and we  believe in those fellows  here     remarked the black haired individual   sarcastically        gospel truth  sir  gospel truth     exclaimed another passenger  a  shabbily dressed man of about forty  who looked like a clerk  and  possessed a red nose and a very blotchy face     gospel truth  all they do  is to get hold of our good russian money free  gratis  and for nothing           oh  but you   re quite wrong in my particular instance     said the swiss  patient  quietly     of course i can   t argue the matter  because i  know only my own case  but my doctor gave me money  and he had very  little  to pay my journey back  besides having kept me at his own  expense  while there  for nearly two years           why  was there no one else to pay for you     asked the black haired one        no  mr  pavlicheff  who had been supporting me there  died a couple  of years ago  i wrote to mrs  general epanchin at the time  she is a  distant relative of mine   but she did not answer my letter  and so  eventually i came back           and where have you come to           that is  where am i going to stay  i  i really don   t quite know yet   i         both the listeners laughed again        i suppose your whole set up is in that bundle  then     asked the first        i bet anything it is     exclaimed the red nosed passenger  with  extreme satisfaction     and that he has precious little in the luggage  van   though of course poverty is no crime  we must remember that        it appeared that it was indeed as they had surmised  the young fellow  hastened to admit the fact with wonderful readiness        your bundle has some importance  however     continued the clerk  when  they had laughed their fill  it was observable that the subject of their  mirth joined in the laughter when he saw them laughing      for though i  dare say it is not stuffed full of friedrichs d   or and louis d   or  judge  from your costume and gaiters  still  if you can add to your possessions  such a valuable property as a relation like mrs  general epanchin  then  your bundle becomes a significant object at once  that is  of course  if  you really are a relative of mrs  epanchin   s  and have not made a little  error through  well  absence of mind  which is very common to human  beings  or  say  through a too luxuriant fancy           oh  you are right again     said the fair haired traveller     for i  really am  almost  wrong when i say she and i are related  she is hardly  a relation at all  so little  in fact  that i was not in the least  surprised to have no answer to my letter  i expected as much           h   m  you spent your postage for nothing  then  h   m  you are candid   however  and that is commendable  h   m  mrs  epanchin  oh yes  a most  eminent person  i know her  as for mr  pavlicheff  who supported you in  switzerland  i know him too  at least  if it was nicolai andreevitch  of that name  a fine fellow he was  and had a property of four thousand  souls in his day           yes  nicolai andreevitch  that was his name     and the young fellow  looked earnestly and with curiosity at the all knowing gentleman with  the red nose     this sort of character is met with pretty frequently in a certain class   they are people who know everyone  that is  they know where a man is  employed  what his salary is  whom he knows  whom he married  what money  his wife had  who are his cousins  and second cousins  etc   etc  these  men generally have about a hundred pounds a year to live on  and they  spend their whole time and talents in the amassing of this style of  knowledge  which they reduce  or raise  to the standard of a science     during the latter part of the conversation the black haired young man  had become very impatient  he stared out of the window  and fidgeted   and evidently longed for the end of the journey  he was very absent   he would appear to listen  and heard nothing  and he would laugh of a  sudden  evidently with no idea of what he was laughing about        excuse me     said the red nosed man to the young fellow with the bundle   rather suddenly     whom have i the honour to be talking to           prince lef nicolaievitch muishkin     replied the latter  with perfect  readiness        prince muishkin  lef nicolaievitch  h   m  i don   t know  i   m sure  i may  say i have never heard of such a person     said the clerk  thoughtfully      at least  the name  i admit  is historical  karamsin must mention the  family name  of course  in his history  but as an individual  one never  hears of any prince muishkin nowadays           of course not     replied the prince     there are none  except myself   i believe i am the last and only one  as to my forefathers  they have  always been a poor lot  my own father was a sublieutenant in the army  i  don   t know how mrs  epanchin comes into the muishkin family  but she is  descended from the princess muishkin  and she  too  is the last of her  line           and did you learn science and all that  with your professor over  there     asked the black haired passenger        oh yes  i did learn a little  but            i   ve never learned anything whatever     said the other        oh  but i learned very little  you know     added the prince  as though  excusing himself     they could not teach me very much on account of my  illness           do you know the rogojins     asked his questioner  abruptly        no  i don   t  not at all  i hardly know anyone in russia  why  is that  your name           yes  i am rogojin  parfen rogojin           parfen rogojin  dear me  then don   t you belong to those very rogojins   perhaps      began the clerk  with a very perceptible increase of civility  in his tone        yes  those very ones     interrupted rogojin  impatiently  and with scant  courtesy  i may remark that he had not once taken any notice of the  blotchy faced passenger  and had hitherto addressed all his remarks  direct to the prince        dear me  is it possible     observed the clerk  while his face assumed an  expression of great deference and servility  if not of absolute  alarm     what  a son of that very semen rogojin  hereditary honourable  citizen  who died a month or so ago and left two million and a half of  roubles           and how do  you  know that he left two million and a half of roubles       asked rogojin  disdainfully  and not deigning so much as to look at the  other     however  it   s true enough that my father died a month ago  and  that here am i returning from pskoff  a month after  with hardly a boot  to my foot  they   ve treated me like a dog  i   ve been ill of fever at  pskoff the whole time  and not a line  nor farthing of money  have i  received from my mother or my confounded brother           and now you   ll have a million roubles  at least  goodness gracious me       exclaimed the clerk  rubbing his hands        five weeks since  i was just like yourself     continued rogojin   addressing the prince     with nothing but a bundle and the clothes i  wore  i ran away from my father and came to pskoff to my aunt   s house   where i caved in at once with fever  and he went and died while i was  away  all honour to my respected father   s memory  but he uncommonly  nearly killed me  all the same  give you my word  prince  if i hadn   t  cut and run then  when i did  he   d have murdered me like a dog           i suppose you angered him somehow     asked the prince  looking at the  millionaire with considerable curiosity  but though there may have been  something remarkable in the fact that this man was heir to millions of  roubles there was something about him which surprised and interested  the prince more than that  rogojin  too  seemed to have taken up the  conversation with unusual alacrity it appeared that he was still in a  considerable state of excitement  if not absolutely feverish  and was  in real need of someone to talk to for the mere sake of talking  as  safety valve to his agitation     as for his red nosed neighbour  the latter  since the information as to  the identity of rogojin  hung over him  seemed to be living on the  honey of his words and in the breath of his nostrils  catching at every  syllable as though it were a pearl of great price        oh  yes  i angered him  i certainly did anger him     replied rogojin      but what puts me out so is my brother  of course my mother couldn   t do  anything  she   s too old  and whatever brother senka says is law for her   but why couldn   t he let me know  he sent a telegram  they say  what   s  the good of a telegram  it frightened my aunt so that she sent it back  to the office unopened  and there it   s been ever since  it   s only thanks  to konief that i heard at all  he wrote me all about it  he says my  brother cut off the gold tassels from my father   s coffin  at night     because they   re worth a lot of money     says he  why  i can get him  sent off to siberia for that alone  if i like  it   s sacrilege  here   you  scarecrow     he added  addressing the clerk at his side     is it  sacrilege or not  by law           sacrilege  certainly  certainly sacrilege     said the latter        and it   s siberia for sacrilege  isn   t it           undoubtedly so  siberia  of course           they will think that i   m still ill     continued rogojin to the prince      but i sloped off quietly  seedy as i was  took the train and came away   aha  brother senka  you   ll have to open your gates and let me in  my  boy  i know he told tales about me to my father  i know that well enough  but i certainly did rile my father about nastasia philipovna that   s very  sure  and that was my own doing           nastasia philipovna     said the clerk  as though trying to think out  something        come  you know nothing about  her      said rogojin  impatiently        and supposing i do know something     observed the other  triumphantly        bosh  there are plenty of nastasia philipovnas  and what an impertinent  beast you are     he added angrily     i thought some creature like you  would hang on to me as soon as i got hold of my money           oh  but i do know  as it happens     said the clerk in an aggravating  manner     lebedeff knows all about her  you are pleased to reproach me   your excellency  but what if i prove that i am right after all  nastasia  phillpovna   s family name is barashkoff  i know  you see  and she is a  very well known lady  indeed  and comes of a good family  too  she is  connected with one totski  afanasy ivanovitch  a man of considerable  property  a director of companies  and so on  and a great friend of  general epanchin  who is interested in the same matters as he is           my eyes     said rogojin  really surprised at last     the devil take the  fellow  how does he know that           why  he knows everything  lebedeff knows everything  i was a month or  two with lihachof after his father died  your excellency  and while he  was knocking about  he   s in the debtor   s prison now  i was with him   and he couldn   t do a thing without lebedeff  and i got to know nastasia  philipovna and several people at that time           nastasia philipovna  why  you don   t mean to say that she and  lihachof      cried rogojin  turning quite pale        no  no  no  no  no  nothing of the sort  i assure you     said lebedeff   hastily     oh dear no  not for the world  totski   s the only man with any  chance there  oh  no  he takes her to his box at the opera at the french  theatre of an evening  and the officers and people all look at her and  say     by jove  there   s the famous nastasia philipovna     but no one ever  gets any further than that  for there is nothing more to say           yes  it   s quite true     said rogojin  frowning gloomily     so zaleshoff  told me  i was walking about the nefsky one fine day  prince  in my  father   s old coat  when she suddenly came out of a shop and stepped  into her carriage  i swear i was all of a blaze at once  then i met  zaleshoff  looking like a hair dresser   s assistant  got up as fine as i  don   t know who  while i looked like a tinker     don   t flatter yourself   my boy     said he     she   s not for such as you  she   s a princess  she  is  and her name is nastasia philipovna barashkoff  and she lives  with totski  who wishes to get rid of her because he   s growing rather  old  fifty five or so  and wants to marry a certain beauty  the  loveliest woman in all petersburg     and then he told me that i could  see nastasia philipovna at the opera house that evening  if i liked  and  described which was her box  well  i   d like to see my father allowing  any of us to go to the theatre  he   d sooner have killed us  any day   however  i went for an hour or so and saw nastasia philipovna  and i  never slept a wink all night after  next morning my father happened to  give me two government loan bonds to sell  worth nearly five thousand  roubles each     sell them     said he     and then take seven thousand five  hundred roubles to the office  give them to the cashier  and bring me  back the rest of the ten thousand  without looking in anywhere on the  way  look sharp  i shall be waiting for you     well  i sold the bonds   but i didn   t take the seven thousand roubles to the office  i went  straight to the english shop and chose a pair of earrings  with a  diamond the size of a nut in each  they cost four hundred roubles more  than i had  so i gave my name  and they trusted me  with the earrings  i went at once to zaleshoff   s     come on     i said     come on to nastasia  philipovna   s     and off we went without more ado  i tell you i hadn   t a  notion of what was about me or before me or below my feet all the way   i saw nothing whatever  we went straight into her drawing room  and then  she came out to us        i didn   t say right out who i was  but zaleshoff said     from parfen  rogojin  in memory of his first meeting with you yesterday  be so kind  as to accept these           she opened the parcel  looked at the earrings  and laughed           thank your friend mr  rogojin for his kind attention     says she  and  bowed and went off  why didn   t i die there on the spot  the worst of it  all was  though  that the beast zaleshoff got all the credit of it  i  was short and abominably dressed  and stood and stared in her face and  never said a word  because i was shy  like an ass  and there was he all  in the fashion  pomaded and dressed out  with a smart tie on  bowing and  scraping  and i bet anything she took him for me all the while           look here now     i said  when we came out     none of your interference  here after this  do you understand     he laughed     and how are you going  to settle up with your father     says he  i thought i might as well jump  into the neva at once without going home first  but it struck me that i  wouldn   t  after all  and i went home feeling like one of the damned           my goodness     shivered the clerk     and his father     he added  for the  prince   s instruction     and his father would have given a man a ticket to  the other world for ten roubles any day  not to speak of ten thousand        the prince observed rogojin with great curiosity  he seemed paler than  ever at this moment        what do you know about it     cried the latter     well  my father learned  the whole story at once  and zaleshoff blabbed it all over the town  besides  so he took me upstairs and locked me up  and swore at me for an  hour     this is only a foretaste     says he     wait a bit till night comes   and i   ll come back and talk to you again           well  what do you think  the old fellow went straight off to nastasia  philipovna  touched the floor with his forehead  and began blubbering  and beseeching her on his knees to give him back the diamonds  so after  awhile she brought the box and flew out at him     there     she says      take your earrings  you wretched old miser  although they are ten times  dearer than their value to me now that i know what it must have cost  parfen to get them  give parfen my compliments     she says     and thank  him very much     well  i meanwhile had borrowed twenty five roubles from  a friend  and off i went to pskoff to my aunt   s  the old woman there  lectured me so that i left the house and went on a drinking tour round  the public houses of the place  i was in a high fever when i got to  pskoff  and by nightfall i was lying delirious in the streets somewhere  or other           oho  we   ll make nastasia philipovna sing another song now     giggled  lebedeff  rubbing his hands with glee     hey  my boy  we   ll get her some  proper earrings now  we   ll get her such earrings that            look here     cried rogojin  seizing him fiercely by the arm     look here   if you so much as name nastasia philipovna again  i   ll tan your hide as  sure as you sit there           aha  do  by all means  if you tan my hide you won   t turn me away from  your society  you   ll bind me to you  with your lash  for ever  ha  ha   here we are at the station  though        sure enough  the train was just steaming in as he spoke     though rogojin had declared that he left pskoff secretly  a large  collection of friends had assembled to greet him  and did so with  profuse waving of hats and shouting        why  there   s zaleshoff here  too     he muttered  gazing at the scene  with a sort of triumphant but unpleasant smile  then he suddenly turned  to the prince     prince  i don   t know why i have taken a fancy to you   perhaps because i met you just when i did  but no  it can   t be that  for  i met this fellow     nodding at lebedeff     too  and i have not taken a  fancy to him by any means  come to see me  prince  we   ll take off those  gaiters of yours and dress you up in a smart fur coat  the best we  can buy  you shall have a dress coat  best quality  white waistcoat   anything you like  and your pocket shall be full of money  come  and  you shall go with me to nastasia philipovna   s  now then will you come or  no           accept  accept  prince lef nicolaievitch    said lebedef solemnly     don   t  let it slip  accept  quick        prince muishkin rose and stretched out his hand courteously  while he  replied with some cordiality        i will come with the greatest pleasure  and thank you very much for  taking a fancy to me  i dare say i may even come today if i have time   for i tell you frankly that i like you very much too  i liked you  especially when you told us about the diamond earrings  but i liked you  before that as well  though you have such a dark clouded sort of face   thanks very much for the offer of clothes and a fur coat  i certainly  shall require both clothes and coat very soon  as for money  i have  hardly a copeck about me at this moment           you shall have lots of money  by the evening i shall have plenty  so  come along           that   s true enough  he   ll have lots before evening     put in lebedeff        but  look here  are you a great hand with the ladies  let   s know that  first     asked rogojin        oh no  oh no     said the prince     i couldn   t  you know  my illness  i  hardly ever saw a soul           h   m  well  here  you fellow  you can come along with me now if you  like     cried rogojin to lebedeff  and so they all left the carriage     lebedeff had his desire  he went off with the noisy group of rogojin   s  friends towards the voznesensky  while the prince   s route lay towards  the litaynaya  it was damp and wet  the prince asked his way of  passers by  and finding that he was a couple of miles or so from his  destination  he determined to take a droshky     \n"
     ]
    }
   ],
   "source": [
    "# Call functions\n",
    "book = get_book(url)\n",
    "processed_book = preprocess(book)\n",
    "print(processed_book)"
   ]
  },
  {
   "cell_type": "code",
   "execution_count": 26,
   "metadata": {},
   "outputs": [
    {
     "output_type": "execute_result",
     "data": {
      "text/plain": [
       "302"
      ]
     },
     "metadata": {},
     "execution_count": 26
    }
   ],
   "source": [
    "# EDA of data\n",
    "len(re.findall(r'the', processed_book))"
   ]
  },
  {
   "cell_type": "code",
   "execution_count": 27,
   "metadata": {
    "tags": [
     "outputPrepend"
    ]
   },
   "outputs": [
    {
     "output_type": "stream",
     "name": "stdout",
     "text": [
      " more than ever  when to the question     whether he had been cured     the  patient replied        no  they did not cure me           hey  that   s it  you stumped up your money for nothing  and we  believe in those fellows  here     remarked the black haired individual   sarcastically        gospel truth  sir  gospel truth     exclaimed another passenger  a  shabbily dressed man of about forty  who looked like a clerk  and  possessed a red nose and a very blotchy face     gospel truth  all they do  is to get hold of our good russian money free  gratis  and for nothing           oh  but you   re quite wrong in my particular instance     said the swiss  patient  quietly     of course I can   t argue the matter  because I  know only my own case  but my doctor gave me money  and he had very  little  to pay my journey back  besides having kept me at his own  expense  while there  for nearly two years           why  was there no one else to pay for you     asked the black haired one        no  mr  pavlicheff  who had been supporting me there  died a couple  of years ago  I wrote to mrs  general epanchin at the time  she is a  distant relative of mine   but she did not answer my letter  and so  eventually I came back           and where have you come to           that is  where am I going to stay  I  I really don   t quite know yet   I         both the listeners laughed again        I suppose your whole set up is in that bundle  then     asked the first        I bet anything it is     exclaimed the red nosed passenger  with  extreme satisfaction     and that he has precious little in the luggage  van   though of course poverty is no crime  we must remember that        it appeared that it was indeed as they had surmised  the young fellow  hastened to admit the fact with wonderful readiness        your bundle has some importance  however     continued the clerk  when  they had laughed their fill  it was observable that the subject of their  mirth joined in the laughter when he saw them laughing      for though I  dare say it is not stuffed full of friedrichs d   or and louis d   or  judge  from your costume and gaiters  still  if you can add to your possessions  such a valuable property as a relation like mrs  general epanchin  then  your bundle becomes a significant object at once  that is  of course  if  you really are a relative of mrs  epanchin   s  and have not made a little  error through  well  absence of mind  which is very common to human  beings  or  say  through a too luxuriant fancy           oh  you are right again     said the fair haired traveller     for I  really am  almost  wrong when I say she and I are related  she is hardly  a relation at all  so little  in fact  that I was not in the least  surprised to have no answer to my letter  I expected as much           h   m  you spent your postage for nothing  then  h   m  you are candid   however  and that is commendable  h   m  mrs  epanchin  oh yes  a most  eminent person  I know her  as for mr  pavlicheff  who supported you in  switzerland  I know him too  at least  if it was nicolai andreevitch  of that name  a fine fellow he was  and had a property of four thousand  souls in his day           yes  nicolai andreevitch  that was his name     and the young fellow  looked earnestly and with curiosity at the all knowing gentleman with  the red nose     this sort of character is met with pretty frequently in a certain class   they are people who know everyone  that is  they know where a man is  employed  what his salary is  whom he knows  whom he married  what money  his wife had  who are his cousins  and second cousins  etc   etc  these  men generally have about a hundred pounds a year to live on  and they  spend their whole time and talents in the amassing of this style of  knowledge  which they reduce  or raise  to the standard of a science     during the latter part of the conversation the black haired young man  had become very impatient  he stared out of the window  and fidgeted   and evidently longed for the end of the journey  he was very absent   he would appear to listen  and heard nothing  and he would laugh of a  sudden  evidently with no idea of what he was laughing about        excuse me     said the red nosed man to the young fellow with the bundle   rather suddenly     whom have I the honour to be talking to           prince lef nicolaievitch muishkin     replied the latter  with perfect  readiness        prince muishkin  lef nicolaievitch  h   m  I don   t know  I   m sure  I may  say I have never heard of such a person     said the clerk  thoughtfully      at least  the name  I admit  is historical  karamsin must mention the  family name  of course  in his history  but as an individual  one never  hears of any prince muishkin nowadays           of course not     replied the prince     there are none  except myself   I believe I am the last and only one  as to my forefathers  they have  always been a poor lot  my own father was a sublieutenant in the army  I  don   t know how mrs  epanchin comes into the muishkin family  but she is  descended from the princess muishkin  and she  too  is the last of her  line           and did you learn science and all that  with your professor over  there     asked the black haired passenger        oh yes  I did learn a little  but            I   ve never learned anything whatever     said the other        oh  but I learned very little  you know     added the prince  as though  excusing himself     they could not teach me very much on account of my  illness           do you know the rogojins     asked his questioner  abruptly        no  I don   t  not at all  I hardly know anyone in russia  why  is that  your name           yes  I am rogojin  parfen rogojin           parfen rogojin  dear me  then don   t you belong to those very rogojins   perhaps      began the clerk  with a very perceptible increase of civility  in his tone        yes  those very ones     interrupted rogojin  impatiently  and with scant  courtesy  I may remark that he had not once taken any notice of the  blotchy faced passenger  and had hitherto addressed all his remarks  direct to the prince        dear me  is it possible     observed the clerk  while his face assumed an  expression of great deference and servility  if not of absolute  alarm     what  a son of that very semen rogojin  hereditary honourable  citizen  who died a month or so ago and left two million and a half of  roubles           and how do  you  know that he left two million and a half of roubles       asked rogojin  disdainfully  and not deigning so much as to look at the  other     however  it   s true enough that my father died a month ago  and  that here am I returning from pskoff  a month after  with hardly a boot  to my foot  they   ve treated me like a dog  I   ve been ill of fever at  pskoff the whole time  and not a line  nor farthing of money  have I  received from my mother or my confounded brother           and now you   ll have a million roubles  at least  goodness gracious me       exclaimed the clerk  rubbing his hands        five weeks since  I was just like yourself     continued rogojin   addressing the prince     with nothing but a bundle and the clothes I  wore  I ran away from my father and came to pskoff to my aunt   s house   where I caved in at once with fever  and he went and died while I was  away  all honour to my respected father   s memory  but he uncommonly  nearly killed me  all the same  give you my word  prince  if I hadn   t  cut and run then  when I did  he   d have murdered me like a dog           I suppose you angered him somehow     asked the prince  looking at the  millionaire with considerable curiosity  but though there may have been  something remarkable in the fact that this man was heir to millions of  roubles there was something about him which surprised and interested  the prince more than that  rogojin  too  seemed to have taken up the  conversation with unusual alacrity it appeared that he was still in a  considerable state of excitement  if not absolutely feverish  and was  in real need of someone to talk to for the mere sake of talking  as  safety valve to his agitation     as for his red nosed neighbour  the latter  since the information as to  the identity of rogojin  hung over him  seemed to be living on the  honey of his words and in the breath of his nostrils  catching at every  syllable as though it were a pearl of great price        oh  yes  I angered him  I certainly did anger him     replied rogojin      but what puts me out so is my brother  of course my mother couldn   t do  anything  she   s too old  and whatever brother senka says is law for her   but why couldn   t he let me know  he sent a telegram  they say  what   s  the good of a telegram  it frightened my aunt so that she sent it back  to the office unopened  and there it   s been ever since  it   s only thanks  to konief that I heard at all  he wrote me all about it  he says my  brother cut off the gold tassels from my father   s coffin  at night     because they   re worth a lot of money     says he  why  I can get him  sent off to siberia for that alone  if I like  it   s sacrilege  here   you  scarecrow     he added  addressing the clerk at his side     is it  sacrilege or not  by law           sacrilege  certainly  certainly sacrilege     said the latter        and it   s siberia for sacrilege  isn   t it           undoubtedly so  siberia  of course           they will think that I   m still ill     continued rogojin to the prince      but I sloped off quietly  seedy as I was  took the train and came away   aha  brother senka  you   ll have to open your gates and let me in  my  boy  I know he told tales about me to my father  I know that well enough  but I certainly did rile my father about nastasia philipovna that   s very  sure  and that was my own doing           nastasia philipovna     said the clerk  as though trying to think out  something        come  you know nothing about  her      said rogojin  impatiently        and supposing I do know something     observed the other  triumphantly        bosh  there are plenty of nastasia philipovnas  and what an impertinent  beast you are     he added angrily     I thought some creature like you  would hang on to me as soon as I got hold of my money           oh  but I do know  as it happens     said the clerk in an aggravating  manner     lebedeff knows all about her  you are pleased to reproach me   your excellency  but what if I prove that I am right after all  nastasia  phillpovna   s family name is barashkoff  I know  you see  and she is a  very well known lady  indeed  and comes of a good family  too  she is  connected with one totski  afanasy ivanovitch  a man of considerable  property  a director of companies  and so on  and a great friend of  general epanchin  who is interested in the same matters as he is           my eyes     said rogojin  really surprised at last     the devil take the  fellow  how does he know that           why  he knows everything  lebedeff knows everything  I was a month or  two with lihachof after his father died  your excellency  and while he  was knocking about  he   s in the debtor   s prison now  I was with him   and he couldn   t do a thing without lebedeff  and I got to know nastasia  philipovna and several people at that time           nastasia philipovna  why  you don   t mean to say that she and  lihachof      cried rogojin  turning quite pale        no  no  no  no  no  nothing of the sort  I assure you     said lebedeff   hastily     oh dear no  not for the world  totski   s the only man with any  chance there  oh  no  he takes her to his box at the opera at the french  theatre of an evening  and the officers and people all look at her and  say     by jove  there   s the famous nastasia philipovna     but no one ever  gets any further than that  for there is nothing more to say           yes  it   s quite true     said rogojin  frowning gloomily     so zaleshoff  told me  I was walking about the nefsky one fine day  prince  in my  father   s old coat  when she suddenly came out of a shop and stepped  into her carriage  I swear I was all of a blaze at once  then I met  zaleshoff  looking like a hair dresser   s assistant  got up as fine as I  don   t know who  while I looked like a tinker     don   t flatter yourself   my boy     said he     she   s not for such as you  she   s a princess  she  is  and her name is nastasia philipovna barashkoff  and she lives  with totski  who wishes to get rid of her because he   s growing rather  old  fifty five or so  and wants to marry a certain beauty  the  loveliest woman in all petersburg     and then he told me that I could  see nastasia philipovna at the opera house that evening  if I liked  and  described which was her box  well  I   d like to see my father allowing  any of us to go to the theatre  he   d sooner have killed us  any day   however  I went for an hour or so and saw nastasia philipovna  and I  never slept a wink all night after  next morning my father happened to  give me two government loan bonds to sell  worth nearly five thousand  roubles each     sell them     said he     and then take seven thousand five  hundred roubles to the office  give them to the cashier  and bring me  back the rest of the ten thousand  without looking in anywhere on the  way  look sharp  I shall be waiting for you     well  I sold the bonds   but I didn   t take the seven thousand roubles to the office  I went  straight to the english shop and chose a pair of earrings  with a  diamond the size of a nut in each  they cost four hundred roubles more  than I had  so I gave my name  and they trusted me  with the earrings  I went at once to zaleshoff   s     come on     I said     come on to nastasia  philipovna   s     and off we went without more ado  I tell you I hadn   t a  notion of what was about me or before me or below my feet all the way   I saw nothing whatever  we went straight into her drawing room  and then  she came out to us        I didn   t say right out who I was  but zaleshoff said     from parfen  rogojin  in memory of his first meeting with you yesterday  be so kind  as to accept these           she opened the parcel  looked at the earrings  and laughed           thank your friend mr  rogojin for his kind attention     says she  and  bowed and went off  why didn   t I die there on the spot  the worst of it  all was  though  that the beast zaleshoff got all the credit of it  I  was short and abominably dressed  and stood and stared in her face and  never said a word  because I was shy  like an ass  and there was he all  in the fashion  pomaded and dressed out  with a smart tie on  bowing and  scraping  and I bet anything she took him for me all the while           look here now     I said  when we came out     none of your interference  here after this  do you understand     he laughed     and how are you going  to settle up with your father     says he  I thought I might as well jump  into the neva at once without going home first  but it struck me that I  wouldn   t  after all  and I went home feeling like one of the damned           my goodness     shivered the clerk     and his father     he added  for the  prince   s instruction     and his father would have given a man a ticket to  the other world for ten roubles any day  not to speak of ten thousand        the prince observed rogojin with great curiosity  he seemed paler than  ever at this moment        what do you know about it     cried the latter     well  my father learned  the whole story at once  and zaleshoff blabbed it all over the town  besides  so he took me upstairs and locked me up  and swore at me for an  hour     this is only a foretaste     says he     wait a bit till night comes   and I   ll come back and talk to you again           well  what do you think  the old fellow went straight off to nastasia  philipovna  touched the floor with his forehead  and began blubbering  and beseeching her on his knees to give him back the diamonds  so after  awhile she brought the box and flew out at him     there     she says      take your earrings  you wretched old miser  although they are ten times  dearer than their value to me now that I know what it must have cost  parfen to get them  give parfen my compliments     she says     and thank  him very much     well  I meanwhile had borrowed twenty five roubles from  a friend  and off I went to pskoff to my aunt   s  the old woman there  lectured me so that I left the house and went on a drinking tour round  the public houses of the place  I was in a high fever when I got to  pskoff  and by nightfall I was lying delirious in the streets somewhere  or other           oho  we   ll make nastasia philipovna sing another song now     giggled  lebedeff  rubbing his hands with glee     hey  my boy  we   ll get her some  proper earrings now  we   ll get her such earrings that            look here     cried rogojin  seizing him fiercely by the arm     look here   if you so much as name nastasia philipovna again  I   ll tan your hide as  sure as you sit there           aha  do  by all means  if you tan my hide you won   t turn me away from  your society  you   ll bind me to you  with your lash  for ever  ha  ha   here we are at the station  though        sure enough  the train was just steaming in as he spoke     though rogojin had declared that he left pskoff secretly  a large  collection of friends had assembled to greet him  and did so with  profuse waving of hats and shouting        why  there   s zaleshoff here  too     he muttered  gazing at the scene  with a sort of triumphant but unpleasant smile  then he suddenly turned  to the prince     prince  I don   t know why I have taken a fancy to you   perhaps because I met you just when I did  but no  it can   t be that  for  I met this fellow     nodding at lebedeff     too  and I have not taken a  fancy to him by any means  come to see me  prince  we   ll take off those  gaiters of yours and dress you up in a smart fur coat  the best we  can buy  you shall have a dress coat  best quality  white waistcoat   anything you like  and your pocket shall be full of money  come  and  you shall go with me to nastasia philipovna   s  now then will you come or  no           accept  accept  prince lef nicolaievitch    said lebedef solemnly     don   t  let it slip  accept  quick        prince muishkin rose and stretched out his hand courteously  while he  replied with some cordiality        I will come with the greatest pleasure  and thank you very much for  taking a fancy to me  I dare say I may even come today if I have time   for I tell you frankly that I like you very much too  I liked you  especially when you told us about the diamond earrings  but I liked you  before that as well  though you have such a dark clouded sort of face   thanks very much for the offer of clothes and a fur coat  I certainly  shall require both clothes and coat very soon  as for money  I have  hardly a copeck about me at this moment           you shall have lots of money  by the evening I shall have plenty  so  come along           that   s true enough  he   ll have lots before evening     put in lebedeff        but  look here  are you a great hand with the ladies  let   s know that  first     asked rogojin        oh no  oh no     said the prince     I couldn   t  you know  my illness  I  hardly ever saw a soul           h   m  well  here  you fellow  you can come along with me now if you  like     cried rogojin to lebedeff  and so they all left the carriage     lebedeff had his desire  he went off with the noisy group of rogojin   s  friends towards the voznesensky  while the prince   s route lay towards  the litaynaya  it was damp and wet  the prince asked his way of  passers by  and finding that he was a couple of miles or so from his  destination  he determined to take a droshky     \n"
     ]
    }
   ],
   "source": [
    "# Replace 'i' with 'I'\n",
    "processed_book = re.sub(r'\\si\\s', r' I ', processed_book)\n",
    "print(processed_book)"
   ]
  },
  {
   "cell_type": "code",
   "execution_count": 32,
   "metadata": {},
   "outputs": [
    {
     "output_type": "execute_result",
     "data": {
      "text/plain": [
       "['ironical--it',\n",
       " 'malicious--smile',\n",
       " 'fur--or',\n",
       " 'astrachan--overcoat',\n",
       " 'it--the',\n",
       " 'Italy--was',\n",
       " 'malady--a',\n",
       " 'money--and',\n",
       " 'little--to',\n",
       " 'No--Mr',\n",
       " 'is--where',\n",
       " 'I--I',\n",
       " 'I--',\n",
       " '--though',\n",
       " 'crime--we',\n",
       " 'or--judge',\n",
       " 'gaiters--still',\n",
       " '--if',\n",
       " 'through--well',\n",
       " 'say--through',\n",
       " 'however--and',\n",
       " 'Epanchin--oh',\n",
       " 'too--at',\n",
       " 'was--and',\n",
       " 'Andreevitch--that',\n",
       " 'everyone--that',\n",
       " 'reduce--or',\n",
       " 'raise--to',\n",
       " 'listen--and',\n",
       " 'history--but',\n",
       " 'individual--one',\n",
       " 'yes--I',\n",
       " 'but--',\n",
       " 't--not',\n",
       " 'me--then',\n",
       " 'perhaps--',\n",
       " 'Yes--those',\n",
       " 'me--is',\n",
       " 'servility--if',\n",
       " 'Rogojin--hereditary',\n",
       " 'citizen--who',\n",
       " 'least--goodness',\n",
       " 'memory--but',\n",
       " 'latter--since',\n",
       " 'Rogojin--hung',\n",
       " 'him--I',\n",
       " 'anything--she',\n",
       " 'old--and',\n",
       " 'you--scarecrow',\n",
       " 'certainly--certainly',\n",
       " 'father--I',\n",
       " 'Barashkoff--I',\n",
       " 'see--and',\n",
       " 'everything--Lebedeff',\n",
       " 'about--he',\n",
       " 'now--I',\n",
       " 'Lihachof--',\n",
       " 'Zaleshoff--looking',\n",
       " 'old--fifty',\n",
       " 'so--and',\n",
       " 'this--do',\n",
       " 'day--not',\n",
       " 'that--',\n",
       " 'do--by',\n",
       " 'know--my',\n",
       " 'illness--I',\n",
       " 'well--here',\n",
       " 'fellow--you']"
      ]
     },
     "metadata": {},
     "execution_count": 32
    }
   ],
   "source": [
    "# Find all occurance of text in the format 'abc--xyz'\n",
    "re.findall(r\"[a-zA-Z0-9]*--[a-zA-Z0-9]*\", book)"
   ]
  },
  {
   "source": [
    "## Handling Strings"
   ],
   "cell_type": "markdown",
   "metadata": {}
  },
  {
   "cell_type": "code",
   "execution_count": 82,
   "metadata": {},
   "outputs": [],
   "source": [
    "string_v1='I am exploring NLP'"
   ]
  },
  {
   "cell_type": "code",
   "execution_count": 85,
   "metadata": {},
   "outputs": [
    {
     "output_type": "stream",
     "name": "stdout",
     "text": [
      "I\nm ex\n"
     ]
    }
   ],
   "source": [
    "print(string_v1[0])\n",
    "print(string_v1[3:7])"
   ]
  },
  {
   "cell_type": "code",
   "execution_count": 86,
   "metadata": {},
   "outputs": [],
   "source": [
    "string_v2=string_v1.replace('exploring', 'learning')"
   ]
  },
  {
   "cell_type": "code",
   "execution_count": 87,
   "metadata": {},
   "outputs": [
    {
     "output_type": "execute_result",
     "data": {
      "text/plain": [
       "'I am learning NLP'"
      ]
     },
     "metadata": {},
     "execution_count": 87
    }
   ],
   "source": [
    "string_v2"
   ]
  },
  {
   "cell_type": "code",
   "execution_count": 88,
   "metadata": {},
   "outputs": [
    {
     "output_type": "execute_result",
     "data": {
      "text/plain": [
       "['__add__',\n",
       " '__class__',\n",
       " '__contains__',\n",
       " '__delattr__',\n",
       " '__dir__',\n",
       " '__doc__',\n",
       " '__eq__',\n",
       " '__format__',\n",
       " '__ge__',\n",
       " '__getattribute__',\n",
       " '__getitem__',\n",
       " '__getnewargs__',\n",
       " '__gt__',\n",
       " '__hash__',\n",
       " '__init__',\n",
       " '__init_subclass__',\n",
       " '__iter__',\n",
       " '__le__',\n",
       " '__len__',\n",
       " '__lt__',\n",
       " '__mod__',\n",
       " '__mul__',\n",
       " '__ne__',\n",
       " '__new__',\n",
       " '__reduce__',\n",
       " '__reduce_ex__',\n",
       " '__repr__',\n",
       " '__rmod__',\n",
       " '__rmul__',\n",
       " '__setattr__',\n",
       " '__sizeof__',\n",
       " '__str__',\n",
       " '__subclasshook__',\n",
       " 'capitalize',\n",
       " 'casefold',\n",
       " 'center',\n",
       " 'count',\n",
       " 'encode',\n",
       " 'endswith',\n",
       " 'expandtabs',\n",
       " 'find',\n",
       " 'format',\n",
       " 'format_map',\n",
       " 'index',\n",
       " 'isalnum',\n",
       " 'isalpha',\n",
       " 'isascii',\n",
       " 'isdecimal',\n",
       " 'isdigit',\n",
       " 'isidentifier',\n",
       " 'islower',\n",
       " 'isnumeric',\n",
       " 'isprintable',\n",
       " 'isspace',\n",
       " 'istitle',\n",
       " 'isupper',\n",
       " 'join',\n",
       " 'ljust',\n",
       " 'lower',\n",
       " 'lstrip',\n",
       " 'maketrans',\n",
       " 'partition',\n",
       " 'replace',\n",
       " 'rfind',\n",
       " 'rindex',\n",
       " 'rjust',\n",
       " 'rpartition',\n",
       " 'rsplit',\n",
       " 'rstrip',\n",
       " 'split',\n",
       " 'splitlines',\n",
       " 'startswith',\n",
       " 'strip',\n",
       " 'swapcase',\n",
       " 'title',\n",
       " 'translate',\n",
       " 'upper',\n",
       " 'zfill']"
      ]
     },
     "metadata": {},
     "execution_count": 88
    }
   ],
   "source": [
    "dir(string_v1)"
   ]
  },
  {
   "cell_type": "code",
   "execution_count": 91,
   "metadata": {},
   "outputs": [
    {
     "output_type": "stream",
     "name": "stdout",
     "text": [
      "nlpmachine learning\n"
     ]
    }
   ],
   "source": [
    "# Concatenating two strings\n",
    "s1 = 'nlp'\n",
    "s2 = 'machine learning'\n",
    "s3 = s1+ s2\n",
    "print(s3)"
   ]
  },
  {
   "cell_type": "code",
   "execution_count": 92,
   "metadata": {},
   "outputs": [
    {
     "output_type": "execute_result",
     "data": {
      "text/plain": [
       "5"
      ]
     },
     "metadata": {},
     "execution_count": 92
    }
   ],
   "source": [
    "# Searching for substring\n",
    "var = 'I am learning NLP'\n",
    "f = 'learn'\n",
    "var.find(f) # First index of pattern"
   ]
  },
  {
   "source": [
    "## Scrape txt from web"
   ],
   "cell_type": "markdown",
   "metadata": {}
  },
  {
   "cell_type": "code",
   "execution_count": null,
   "metadata": {},
   "outputs": [],
   "source": []
  }
 ]
}